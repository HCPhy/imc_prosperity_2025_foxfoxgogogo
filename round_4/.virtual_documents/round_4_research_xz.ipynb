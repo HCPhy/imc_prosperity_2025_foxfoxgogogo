import pandas as pd
import numpy as np
import matplotlib.pyplot as plt
import plotly.graph_objects as go
import plotly.express as px
import statistics as st

from scipy.stats import shapiro, jarque_bera, norm
import statsmodels.api as sm
from statsmodels.stats.diagnostic import acorr_ljungbox



def get_df(round, day):
    file_name = f"./round-{round}-island-data-bottle/prices_round_{round}_day_{day}.csv"
    return pd.read_csv(file_name, sep=';')

def get_product(df, product):
    return df[df['product'] == product].copy()

def get_first_two_dfs():
    first_df = get_df(1)
    second_df = get_df(2)
    second_df['timestamp'] = second_df['timestamp'] + 1000000
    return pd.concat([first_df, second_df])

def get_obs_df(round, day):
    file_name = f"./round-{round}-island-data-bottle/observations_round_{round}_day_{day}.csv"
    return pd.read_csv(file_name, sep=',')


def get_mid_price



prices_df_list = [get_df(4, day) for day in range(1, 4)]
product_df_list = [get_product(prices_df[day], 'MAGNIFICENT_MACARONS')
              for day in range(0, 3)]
obs_df_list = [get_obs_df(4, day) for day in range(1, 4)]


obs_df_list[0]


dayIdx = 1

obs_df = obs_df_list[dayIdx]

x = obs_df['sugarPrice']     
y = obs_df['sunlightIndex']     

plt.plot(x, y, marker='o')        
plt.show()



